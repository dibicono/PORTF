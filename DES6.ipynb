{
 "cells": [
  {
   "cell_type": "markdown",
   "id": "62e8ad35",
   "metadata": {},
   "source": []
  }
 ],
 "metadata": {
  "language_info": {
   "name": "python"
  }
 },
 "nbformat": 4,
 "nbformat_minor": 5
}
