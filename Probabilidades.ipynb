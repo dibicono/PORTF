{
 "cells": [
  {
   "cell_type": "markdown",
   "id": "0a1454c4",
   "metadata": {},
   "source": [
    "Estadística descriptiva y probabilidades\n",
    "\n",
    "\n",
    "1. El promedio general de los salarios, desviación estándar, quintiles y rango. (hint:escoge la columna adecuada para comparar)."
   ]
  },
  {
   "cell_type": "code",
   "execution_count": 103,
   "id": "6abf207a",
   "metadata": {},
   "outputs": [
    {
     "data": {
      "text/html": [
       "<div>\n",
       "<style scoped>\n",
       "    .dataframe tbody tr th:only-of-type {\n",
       "        vertical-align: middle;\n",
       "    }\n",
       "\n",
       "    .dataframe tbody tr th {\n",
       "        vertical-align: top;\n",
       "    }\n",
       "\n",
       "    .dataframe thead th {\n",
       "        text-align: right;\n",
       "    }\n",
       "</style>\n",
       "<table border=\"1\" class=\"dataframe\">\n",
       "  <thead>\n",
       "    <tr style=\"text-align: right;\">\n",
       "      <th></th>\n",
       "      <th>work_year</th>\n",
       "      <th>experience_level</th>\n",
       "      <th>employment_type</th>\n",
       "      <th>job_title</th>\n",
       "      <th>salary</th>\n",
       "      <th>salary_currency</th>\n",
       "      <th>salary_in_usd</th>\n",
       "      <th>employee_residence</th>\n",
       "      <th>remote_ratio</th>\n",
       "      <th>company_location</th>\n",
       "      <th>company_size</th>\n",
       "    </tr>\n",
       "  </thead>\n",
       "  <tbody>\n",
       "    <tr>\n",
       "      <th>0</th>\n",
       "      <td>2023</td>\n",
       "      <td>SE</td>\n",
       "      <td>FT</td>\n",
       "      <td>Principal Data Scientist</td>\n",
       "      <td>80000</td>\n",
       "      <td>EUR</td>\n",
       "      <td>85847</td>\n",
       "      <td>ES</td>\n",
       "      <td>100</td>\n",
       "      <td>ES</td>\n",
       "      <td>L</td>\n",
       "    </tr>\n",
       "    <tr>\n",
       "      <th>1</th>\n",
       "      <td>2023</td>\n",
       "      <td>MI</td>\n",
       "      <td>CT</td>\n",
       "      <td>ML Engineer</td>\n",
       "      <td>30000</td>\n",
       "      <td>USD</td>\n",
       "      <td>30000</td>\n",
       "      <td>US</td>\n",
       "      <td>100</td>\n",
       "      <td>US</td>\n",
       "      <td>S</td>\n",
       "    </tr>\n",
       "    <tr>\n",
       "      <th>2</th>\n",
       "      <td>2023</td>\n",
       "      <td>MI</td>\n",
       "      <td>CT</td>\n",
       "      <td>ML Engineer</td>\n",
       "      <td>25500</td>\n",
       "      <td>USD</td>\n",
       "      <td>25500</td>\n",
       "      <td>US</td>\n",
       "      <td>100</td>\n",
       "      <td>US</td>\n",
       "      <td>S</td>\n",
       "    </tr>\n",
       "  </tbody>\n",
       "</table>\n",
       "</div>"
      ],
      "text/plain": [
       "   work_year experience_level employment_type                 job_title  \\\n",
       "0       2023               SE              FT  Principal Data Scientist   \n",
       "1       2023               MI              CT               ML Engineer   \n",
       "2       2023               MI              CT               ML Engineer   \n",
       "\n",
       "   salary salary_currency  salary_in_usd employee_residence  remote_ratio  \\\n",
       "0   80000             EUR          85847                 ES           100   \n",
       "1   30000             USD          30000                 US           100   \n",
       "2   25500             USD          25500                 US           100   \n",
       "\n",
       "  company_location company_size  \n",
       "0               ES            L  \n",
       "1               US            S  \n",
       "2               US            S  "
      ]
     },
     "execution_count": 103,
     "metadata": {},
     "output_type": "execute_result"
    }
   ],
   "source": [
    "import pandas as pd \n",
    "import numpy as np\n",
    "\n",
    "df = pd.read_csv('ds_salaries.csv')\n",
    "df.head(3)"
   ]
  },
  {
   "cell_type": "code",
   "execution_count": 104,
   "id": "8c049c7e",
   "metadata": {},
   "outputs": [
    {
     "name": "stdout",
     "output_type": "stream",
     "text": [
      "Promedio: 137570.39\n",
      "Desviacion Standard: 63055.63\n",
      "Varianza: 3976011879.23\n",
      "Rango minimo: 5132, Rango maximo: 450000\n",
      "Rango: 444868\n"
     ]
    },
    {
     "data": {
      "text/html": [
       "<div>\n",
       "<style scoped>\n",
       "    .dataframe tbody tr th:only-of-type {\n",
       "        vertical-align: middle;\n",
       "    }\n",
       "\n",
       "    .dataframe tbody tr th {\n",
       "        vertical-align: top;\n",
       "    }\n",
       "\n",
       "    .dataframe thead th {\n",
       "        text-align: right;\n",
       "    }\n",
       "</style>\n",
       "<table border=\"1\" class=\"dataframe\">\n",
       "  <thead>\n",
       "    <tr style=\"text-align: right;\">\n",
       "      <th></th>\n",
       "      <th>Quintiles</th>\n",
       "    </tr>\n",
       "  </thead>\n",
       "  <tbody>\n",
       "    <tr>\n",
       "      <th>0.2</th>\n",
       "      <td>83972.8</td>\n",
       "    </tr>\n",
       "    <tr>\n",
       "      <th>0.4</th>\n",
       "      <td>120000.0</td>\n",
       "    </tr>\n",
       "    <tr>\n",
       "      <th>0.6</th>\n",
       "      <td>149850.0</td>\n",
       "    </tr>\n",
       "    <tr>\n",
       "      <th>0.8</th>\n",
       "      <td>185900.0</td>\n",
       "    </tr>\n",
       "    <tr>\n",
       "      <th>1.0</th>\n",
       "      <td>450000.0</td>\n",
       "    </tr>\n",
       "  </tbody>\n",
       "</table>\n",
       "</div>"
      ],
      "text/plain": [
       "     Quintiles\n",
       "0.2    83972.8\n",
       "0.4   120000.0\n",
       "0.6   149850.0\n",
       "0.8   185900.0\n",
       "1.0   450000.0"
      ]
     },
     "execution_count": 104,
     "metadata": {},
     "output_type": "execute_result"
    }
   ],
   "source": [
    "\n",
    "# MEDIDAD DE DISPERSION\n",
    "\n",
    "# conversion a valores\n",
    "df['salary_in_usd'] = (df['salary_in_usd']).astype(int)\n",
    "\n",
    "prom = df['salary_in_usd'].mean()\n",
    "desvtd = df['salary_in_usd'].std()\n",
    "var = df['salary_in_usd'].var()\n",
    "quin = df['salary_in_usd'].quantile([0.2, 0.4, 0.6, 0.8, 1])\n",
    "quin = pd.DataFrame({'Quintiles' : quin})\n",
    "quin\n",
    "max = df['salary_in_usd'].max()\n",
    "min = df['salary_in_usd'].min()\n",
    "rang = df['salary_in_usd'].max() - df['salary_in_usd'].min()\n",
    "\n",
    "print(f\"Promedio: {prom.round(2)}\")\n",
    "print(f\"Desviacion Standard: {desvtd.round(2)}\")\n",
    "print(f\"Varianza: {var.round(2)}\")\n",
    "print(f\"Rango minimo: {min}, Rango maximo: {max}\")\n",
    "print(f\"Rango: {rang}\")\n",
    "quin"
   ]
  },
  {
   "cell_type": "markdown",
   "id": "ba76804d",
   "metadata": {},
   "source": [
    "2. Una comparación entre los salarios agrupados por 3 diferentes categorías a tu elección. ¿Para cuál de las medidas de tendencia central son más representativas? ¿Para cuál son menos representativas? Explica."
   ]
  },
  {
   "cell_type": "code",
   "execution_count": 105,
   "id": "c45e115f",
   "metadata": {},
   "outputs": [],
   "source": [
    "# Agrupacion por media aritmetica\n",
    "Moda = df.groupby('salary_currency').agg(lambda x: x.mode().iloc[0])\n",
    "ModaOr_Curr = Moda.sort_values(by='salary_in_usd', ascending=False).head(10)\n",
    "ModaOr_Curr['salary_in_usd']\n",
    "\n",
    "Promedio = df.groupby('company_location')['salary_in_usd'].mean()\n",
    "PromOr_loca = Promedio.sort_values(ascending=False).round(2).head(10)\n",
    "\n",
    "Mediana = df.groupby('company_size')['salary_in_usd'].median()\n",
    "MedianaOr_Size = Mediana.sort_values(ascending=False).round(2)\n"
   ]
  },
  {
   "cell_type": "code",
   "execution_count": 106,
   "id": "331102ac",
   "metadata": {},
   "outputs": [
    {
     "name": "stdout",
     "output_type": "stream",
     "text": [
      "Moda de Salario por moneda:\n",
      "salary_currency\n",
      "ILS    423834\n",
      "USD    100000\n",
      "GBP     92350\n",
      "EUR     84053\n",
      "AUD     83171\n",
      "CAD     76814\n",
      "SGD     75020\n",
      "HKD     65062\n",
      "CHF     56536\n",
      "JPY     41689\n",
      "Name: salary_in_usd, dtype: int64\n",
      "En orden de salarios que mas se repiten por cada moneda\n",
      "------------------------------------\n",
      "< MAS REPRESENTATIVO EN LOS DATOS >\n",
      "Porque dice del salario que mas se paga como tendencia a ganar por empleados segun la moneda osea depende del lugar de origen de la empresa.\n",
      "En este caso es Israel\n"
     ]
    }
   ],
   "source": [
    "print(f\"Moda de Salario por moneda:\\n{ModaOr_Curr['salary_in_usd']}\\nEn orden de salarios que mas se repiten por cada moneda\\n------------------------------------\\n< MAS REPRESENTATIVO EN LOS DATOS >\\nPorque dice del salario que mas se paga como tendencia a ganar por empleados segun la moneda osea depende del lugar de origen de la empresa.\\nEn este caso es Israel\")"
   ]
  },
  {
   "cell_type": "code",
   "execution_count": 107,
   "id": "d0fcab6a",
   "metadata": {},
   "outputs": [
    {
     "name": "stdout",
     "output_type": "stream",
     "text": [
      "Promedio de salario por ubicacion:\n",
      "company_location\n",
      "IL    271446.50\n",
      "PR    167500.00\n",
      "US    151822.01\n",
      "RU    140333.33\n",
      "CA    131917.69\n",
      "NZ    125000.00\n",
      "BA    120000.00\n",
      "IE    114943.43\n",
      "JP    114127.33\n",
      "SE    105000.00\n",
      "Name: salary_in_usd, dtype: float64\n",
      "En orden de promedios de salarios por cada ubicacion\n",
      "------------------------------------\n",
      "< PROMEDIO MAS REPRESENTATIVO EN LOS DATOS >\n",
      "Porque dependiendo del lugar marca una tendencia afectada por datos de salarios muy bajos que podrian ser pocos.\n",
      "En este caso es Israel coincidiendo con el top de la moda\n"
     ]
    }
   ],
   "source": [
    "print(f\"Promedio de salario por ubicacion:\\n{PromOr_loca}\\nEn orden de promedios de salarios por cada ubicacion\\n------------------------------------\\n< PROMEDIO MAS REPRESENTATIVO EN LOS DATOS >\\nPorque dependiendo del lugar marca una tendencia afectada por datos de salarios muy bajos que podrian ser pocos.\\nEn este caso es Israel coincidiendo con el top de la moda\")"
   ]
  },
  {
   "cell_type": "code",
   "execution_count": 108,
   "id": "2b19d2d8",
   "metadata": {},
   "outputs": [
    {
     "name": "stdout",
     "output_type": "stream",
     "text": [
      "Mediana de salario por tamaño de empresa:\n",
      "company_size\n",
      "M    140000.0\n",
      "L    108500.0\n",
      "S     62146.0\n",
      "Name: salary_in_usd, dtype: float64\n",
      "En orden de Medianas de salarios por cada tamaño\n",
      "------------------------------------\n",
      "< MEDIANA NO REPRESENTATIVO EN LOS DATOS >\n",
      "Porque no genera un dato relevante ante la cantidad de salarios arriba o abajo de la mediana, no genera una respuesta relevante respecto a salarios.\n"
     ]
    }
   ],
   "source": [
    "print(f\"Mediana de salario por tamaño de empresa:\\n{MedianaOr_Size}\\nEn orden de Medianas de salarios por cada tamaño\\n------------------------------------\\n< MEDIANA NO REPRESENTATIVO EN LOS DATOS >\\nPorque no genera un dato relevante ante la cantidad de salarios arriba o abajo de la mediana, no genera una respuesta relevante respecto a salarios.\")"
   ]
  },
  {
   "cell_type": "markdown",
   "id": "439db6a6",
   "metadata": {},
   "source": [
    "3. Interpretar los indicadores estadísticos en cada caso, considerando medidas de tendencia central y dispersión."
   ]
  },
  {
   "cell_type": "code",
   "execution_count": 109,
   "id": "68e55468",
   "metadata": {},
   "outputs": [
    {
     "name": "stdout",
     "output_type": "stream",
     "text": [
      "\n",
      "promedio por tamaño: company_size\n",
      "M    143130.55\n",
      "L    118300.98\n",
      "S     78226.68\n",
      "Name: salary_in_usd, dtype: float64\n",
      "\n",
      "promedio por moneda: salary_currency\n",
      "ILS    423834.00\n",
      "USD    149366.91\n",
      "CHF    100682.00\n",
      "CAD     96707.40\n",
      "GBP     83850.23\n",
      "SGD     81770.00\n",
      "AUD     74198.44\n",
      "HKD     65062.00\n",
      "EUR     62281.73\n",
      "JPY     60921.33\n",
      "Name: salary_in_usd, dtype: float64\n",
      "\n",
      "promedio por ubicación: company_location\n",
      "IL    271446.50\n",
      "PR    167500.00\n",
      "US    151822.01\n",
      "RU    140333.33\n",
      "CA    131917.69\n",
      "NZ    125000.00\n",
      "BA    120000.00\n",
      "IE    114943.43\n",
      "JP    114127.33\n",
      "SE    105000.00\n",
      "Name: salary_in_usd, dtype: float64\n"
     ]
    }
   ],
   "source": [
    "# CALCULOS REPRESENTATIVOS\n",
    "PromedioS = df.groupby('company_size')['salary_in_usd'].mean()\n",
    "PromOr_Size = PromedioS.sort_values(ascending=False).round(2).head(10)\n",
    "\n",
    "PromedioC = df.groupby('salary_currency')['salary_in_usd'].mean()\n",
    "PromOr_Currency = PromedioC.sort_values(ascending=False).round(2).head(10)\n",
    "\n",
    "print(f\"\\npromedio por tamaño: {PromOr_Size}\")\n",
    "print(f\"\\npromedio por moneda: {PromOr_Currency}\")\n",
    "print(f\"\\npromedio por ubicación: {PromOr_loca}\")"
   ]
  },
  {
   "cell_type": "markdown",
   "id": "931bc8a0",
   "metadata": {},
   "source": [
    "RESPUESTA:\n",
    "- La Desviacion Standard: 63055.63 de los salarios en usd de los datos es relativamente pequeña, eso quiere decir que la desviacion es menos del 30% del promedio, nos indica que la tendencia por pago de los salarios tiende a igualarse, osea que la desvicion baja nos dice que hay tambien una desvicion baja.\n",
    "\n",
    "- El Rango: 444868 en salarios de usd es alto pero debido a la desvicion baja, se supone que los datos mas lejanos al promedio son relativamente pocos en comparacion a la concentracion de puntos.\n",
    "\n",
    "- Promedio: 137570.39 en salarios en usd pero se centra mas con tendencia al limite inferior al del rango osea por debajo del percentil 0.6\t(149850.0)\n",
    "\n",
    "Quintiles\n",
    "\n",
    "0.2\t  83972.8\n",
    "\n",
    "0.4\t  120000.0\n",
    "\n",
    "0.6\t  149850.0\n",
    "\n",
    "0.8\t  185900.0\n",
    "\n",
    "1.0\t  450000.0\n",
    "\n",
    "\n",
    "\n",
    "\n",
    "- Las empresas medianas tienen un pago en promedio de 143130.55 usd por encima de las empresas grandes.\n",
    "\n",
    "- El pago en moneda mayor es ILS 423834.00 usd lo que puede entenderse que en Israel, puede estar mas valorado la misma labor que en otros paises.\n",
    "\n",
    "- El pago por Ubicacion IL 271446.50 sigue liderando no solo economicamente la moneda israeli puede mostrarse mas fuerte si no que en Israel las empresas tienen mayor capacidad de pago a sus empleados \n",
    "\n",
    "- El salario que mas se repite es ILS 423834 lo que esta del segundo bastante distante, lo que indica que el mayor salario que mas pagan por la labor esta en Israel.\n",
    "\n",
    "\n",
    "*CONCLUSION:\n",
    "ISRAEL parece tener mayor estabilidad economica a nivel mundial por tener los empleos mejor pagados.\n",
    "\n"
   ]
  }
 ],
 "metadata": {
  "kernelspec": {
   "display_name": "Python 3",
   "language": "python",
   "name": "python3"
  },
  "language_info": {
   "codemirror_mode": {
    "name": "ipython",
    "version": 3
   },
   "file_extension": ".py",
   "mimetype": "text/x-python",
   "name": "python",
   "nbconvert_exporter": "python",
   "pygments_lexer": "ipython3",
   "version": "3.12.10"
  }
 },
 "nbformat": 4,
 "nbformat_minor": 5
}
